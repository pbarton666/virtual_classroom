{
 "cells": [
  {
   "cell_type": "code",
   "execution_count": 40,
   "metadata": {
    "collapsed": true
   },
   "outputs": [],
   "source": [
    "#py_pandas_date_wrangling.ipynb\n",
    "\n",
    "import pandas as pd\n",
    "\n",
    "#import pandas pandas.core.datetools as dt  #olde tyme\n",
    "import pandas.tseries.holiday as hol\n",
    "import pandas.tseries.offsets as off"
   ]
  },
  {
   "cell_type": "code",
   "execution_count": 41,
   "metadata": {
    "collapsed": false,
    "scrolled": false
   },
   "outputs": [
    {
     "name": "stdout",
     "output_type": "stream",
     "text": [
      "daily: DatetimeIndex(['2017-01-01', '2017-01-02', '2017-01-03'], dtype='datetime64[ns]', freq='D')\n",
      "monthly: DatetimeIndex(['2017-01-31', '2017-02-28', '2017-03-31'], dtype='datetime64[ns]', freq='M')\n",
      "annually: DatetimeIndex(['2017-12-31', '2018-12-31', '2019-12-31'], dtype='datetime64[ns]', freq='A-DEC')\n"
     ]
    }
   ],
   "source": [
    "new_year=pd.datetime(2017, 1, 1)\n",
    "print('daily:', pd.date_range(start=new_year,periods=3, freq='d'))\n",
    "print('monthly:', pd.date_range(start=new_year,periods=3, freq='M'))\n",
    "print('annually:', pd.date_range(start=new_year,periods=3, freq='A'))"
   ]
  },
  {
   "cell_type": "code",
   "execution_count": 42,
   "metadata": {
    "collapsed": false
   },
   "outputs": [
    {
     "data": {
      "text/plain": [
       "DatetimeIndex(['2019-03-29', '2019-06-28', '2019-09-30', '2019-12-31'], dtype='datetime64[ns]', freq='BQ-DEC')"
      ]
     },
     "execution_count": 42,
     "metadata": {},
     "output_type": "execute_result"
    }
   ],
   "source": [
    "qtrs=pd.bdate_range(pd.datetime(2019,1,1), pd.datetime(2020,1,1), freq='BQ')\n",
    "qtrs"
   ]
  },
  {
   "cell_type": "code",
   "execution_count": 43,
   "metadata": {
    "collapsed": false
   },
   "outputs": [
    {
     "name": "stdout",
     "output_type": "stream",
     "text": [
      "week 13\n",
      "ordinal day 88\n",
      "ordinal day of week 4\n",
      "day Friday\n",
      "is quarter end? True\n"
     ]
    }
   ],
   "source": [
    "first_q=qtrs[0]\n",
    "first_q\n",
    "print(\"week\", first_q.weekofyear)\n",
    "print(\"ordinal day\", first_q.dayofyear)\n",
    "print(\"ordinal day of week\", first_q.dayofweek)\n",
    "print(\"day\", first_q.weekday_name)\n",
    "print(\"is quarter end?\", first_q.is_quarter_end)\n"
   ]
  },
  {
   "cell_type": "code",
   "execution_count": 44,
   "metadata": {
    "collapsed": false
   },
   "outputs": [
    {
     "name": "stdout",
     "output_type": "stream",
     "text": [
      "plus a year 2021-01-01 00:00:00\n"
     ]
    }
   ],
   "source": [
    "myday = pd.datetime(2020, 1, 1)\n",
    "print(\"plus a year\", myday + pd.DateOffset(years=1))"
   ]
  },
  {
   "cell_type": "code",
   "execution_count": 45,
   "metadata": {
    "collapsed": false
   },
   "outputs": [
    {
     "name": "stdout",
     "output_type": "stream",
     "text": [
      "advance a day: 2020-01-02 00:00:00\n",
      "this Q end: 2020-03-31 00:00:00\n",
      "last Q end: 2019-12-31 00:00:00\n",
      "second-last Q end: 2019-09-30 00:00:00\n",
      "\n",
      "2020-06-01 00:00:00\n",
      "2020-09-01 00:00:00\n",
      "2020-12-01 00:00:00\n",
      "2021-03-01 00:00:00\n"
     ]
    }
   ],
   "source": [
    "print(\"advance a day:\", myday + off.BDay())\n",
    "print(\"this Q end:\", myday + off.QuarterEnd())\n",
    "print(\"last Q end:\", myday - off.QuarterEnd())\n",
    "print(\"second-last Q end:\", myday - 2 * off.QuarterEnd())\n",
    "print()\n",
    "offset = off.QuarterBegin()\n",
    "r = offset.apply(myday)\n",
    "for _ in range(4):\n",
    "    r = offset.apply(r)\n",
    "    print (r)"
   ]
  },
  {
   "cell_type": "code",
   "execution_count": 46,
   "metadata": {
    "collapsed": false
   },
   "outputs": [
    {
     "name": "stdout",
     "output_type": "stream",
     "text": [
      "Happy Easter!\n",
      "2018-4-1\n",
      "2019-4-21\n",
      "2020-4-12\n"
     ]
    }
   ],
   "source": [
    "easter=pd.date_range(start=pd.datetime.now(),\\\n",
    "                         freq=hol.Easter(), \\\n",
    "                         periods=3)\n",
    "print(\"Happy Easter!\")\n",
    "for day in easter:\n",
    "    print ('{}-{}-{}'.format(day.year, day.month, day.day))"
   ]
  },
  {
   "cell_type": "code",
   "execution_count": null,
   "metadata": {
    "collapsed": true
   },
   "outputs": [],
   "source": []
  }
 ],
 "metadata": {
  "kernelspec": {
   "display_name": "Python 3",
   "language": "python",
   "name": "python3"
  },
  "language_info": {
   "codemirror_mode": {
    "name": "ipython",
    "version": 3
   },
   "file_extension": ".py",
   "mimetype": "text/x-python",
   "name": "python",
   "nbconvert_exporter": "python",
   "pygments_lexer": "ipython3",
   "version": "3.6.0"
  }
 },
 "nbformat": 4,
 "nbformat_minor": 2
}
