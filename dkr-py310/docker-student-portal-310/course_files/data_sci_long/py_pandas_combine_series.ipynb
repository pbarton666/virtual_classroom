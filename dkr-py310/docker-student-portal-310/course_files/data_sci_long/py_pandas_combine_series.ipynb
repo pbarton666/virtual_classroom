{
 "cells": [
  {
   "cell_type": "code",
   "execution_count": 2,
   "metadata": {
    "collapsed": false
   },
   "outputs": [],
   "source": [
    "#py_pandas_combine_series.ipynb\n",
    "import numpy as np              \n",
    "import pandas as  pd            \n",
    "import matplotlib.pyplot as plt \n",
    "%matplotlib inline\n",
    "import os\n",
    "datafile='clean_polling_data.csv'\n",
    "\n",
    "#useful if you want the directory this script is in\n",
    "if '__file__' in dir():\n",
    "    path, _=os.path.split(__file__)  \n",
    "else: path=os.getcwd() \n",
    "    \n",
    "filename=os.path.join(path, datafile)\n",
    "df=pd.read_csv(filename, parse_dates=[0]) #dialect defaults to Excel\n",
    "df.set_index('date', inplace=True)"
   ]
  },
  {
   "cell_type": "code",
   "execution_count": 3,
   "metadata": {
    "collapsed": false,
    "scrolled": true
   },
   "outputs": [
    {
     "name": "stdout",
     "output_type": "stream",
     "text": [
      "                  poll  size stype  approve  disapprove  spread\n",
      "date                                                           \n",
      "2017-01-25  Quinnipiac  1190    RV       36          44      -8\n",
      "2017-02-06  Quinnipiac  1155    RV       42          51      -9\n",
      "2017-02-21  Quinnipiac  1323    RV       38          55     -17\n",
      "\n",
      "                         poll  size stype  approve  disapprove  spread\n",
      "date                                                                  \n",
      "2017-01-24  Rasmussen Reports  1500    LV       57          43      14\n",
      "2017-01-31  Rasmussen Reports  1500    LV       53          47       6\n",
      "2017-02-07  Rasmussen Reports  1500    LV       53          47       6\n"
     ]
    },
    {
     "name": "stderr",
     "output_type": "stream",
     "text": [
      "/home/pat/tools/miniconda2/lib/python3.6/site-packages/ipykernel/__main__.py:7: SettingWithCopyWarning: \n",
      "A value is trying to be set on a copy of a slice from a DataFrame\n",
      "\n",
      "See the caveats in the documentation: http://pandas.pydata.org/pandas-docs/stable/indexing.html#indexing-view-versus-copy\n"
     ]
    }
   ],
   "source": [
    "#py_pandas_combine_series.ipynb\n",
    "qpoll = df.query('poll==\"Quinnipiac\"')\n",
    "rpoll = df.query('poll==\"Rasmussen Reports\"')\n",
    "\n",
    "#sort to ensure monotinic, earliest-to-latest dates\n",
    "qpoll=qpoll.copy(); rpoll.copy()\n",
    "qpoll.sort_index(inplace=True); rpoll.sort_index(inplace=True)\n",
    "print(qpoll[:3])\n",
    "print()\n",
    "print(rpoll[:3])"
   ]
  },
  {
   "cell_type": "code",
   "execution_count": 4,
   "metadata": {
    "collapsed": true
   },
   "outputs": [],
   "source": [
    "#figure out the first and last dates\n",
    "start=min(qpoll.index.min(), rpoll.index.min())\n",
    "end=max(qpoll.index.max(), rpoll.index.max())\n",
    "\n",
    "#throw in a a few days on either end (note \n",
    "#  negation in the new start offset)\n",
    "padding=3  \n",
    "newstart=start+pd.DateOffset(days=-padding)  \n",
    "newend=end+pd.DateOffset(days=padding)\n",
    "\n",
    "#... gin up a new date_range for the index\n",
    "newix=pd.date_range(newstart, newend, freq='d')\n",
    "\n",
    "#... apply it to both Series\n",
    "qpoll=qpoll.reindex(pd.to_datetime(newix))\n",
    "rpoll=rpoll.reindex(pd.to_datetime(newix))"
   ]
  },
  {
   "cell_type": "code",
   "execution_count": 5,
   "metadata": {
    "collapsed": false
   },
   "outputs": [
    {
     "name": "stdout",
     "output_type": "stream",
     "text": [
      "                  poll    size stype  approve  disapprove  spread\n",
      "2017-01-23         NaN     NaN   NaN      NaN         NaN     NaN\n",
      "2017-01-24         NaN     NaN   NaN      NaN         NaN     NaN\n",
      "2017-01-25  Quinnipiac  1190.0    RV     36.0        44.0    -8.0\n",
      "2017-01-26         NaN     NaN   NaN      NaN         NaN     NaN\n",
      "\n",
      "                         poll    size stype  approve  disapprove  spread\n",
      "2017-01-23                NaN     NaN   NaN      NaN         NaN     NaN\n",
      "2017-01-24  Rasmussen Reports  1500.0    LV     57.0        43.0    14.0\n",
      "2017-01-25                NaN     NaN   NaN      NaN         NaN     NaN\n",
      "2017-01-26                NaN     NaN   NaN      NaN         NaN     NaN\n"
     ]
    }
   ],
   "source": [
    "print(qpoll[2:6])\n",
    "print()\n",
    "print(rpoll[2:6])"
   ]
  },
  {
   "cell_type": "code",
   "execution_count": 6,
   "metadata": {
    "collapsed": false
   },
   "outputs": [
    {
     "data": {
      "image/png": "[encoded data removed]",
      "text/plain": [
       "<matplotlib.figure.Figure at 0x7ff77f1b6c50>"
      ]
     },
     "metadata": {},
     "output_type": "display_data"
    }
   ],
   "source": [
    "from py_plotting_utils import formatPlotBar\n",
    "\n",
    "#... specify a column to print\n",
    "col_to_plot='spread'\n",
    "\n",
    "#... add some aesthetic elements\n",
    "q_label ='Quinnipiac'; r_label = 'Rasmussen' \n",
    "q_color='b'; r_color='r'\n",
    "bar_width=2.0; opacity=.9\n",
    "title = \"{} versus {} - {}\".format(q_label, r_label, col_to_plot)\n",
    "\n",
    "formatPlotBar(start=newstart, end=newend, \n",
    "              s1=qpoll[col_to_plot], s2=rpoll[col_to_plot],\n",
    "              s1_label=q_label, s2_label=r_label, \n",
    "              s1_color=q_color, s2_color=r_color,\n",
    "              x_label='', y_label=col_to_plot, title=title,\n",
    "              bar_width=bar_width, opacity=opacity)"
   ]
  },
  {
   "cell_type": "code",
   "execution_count": 7,
   "metadata": {
    "collapsed": false
   },
   "outputs": [
    {
     "data": {
      "image/png": "[encoded data removed]",
      "text/plain": [
       "<matplotlib.figure.Figure at 0x7ff77ce4fda0>"
      ]
     },
     "metadata": {},
     "output_type": "display_data"
    }
   ],
   "source": [
    "import pandas.tseries.offsets as off\n",
    "\n",
    "lag_days=5 #to get more granular, we'd need to rescale to hours\n",
    "rpoll['spread_lag']=rpoll['spread'].shift(- 3)\n",
    "title=\"Actual versus Reported Spread\"\n",
    "s2=rpoll['spread_lag']\n",
    "s2_color='p'\n",
    "formatPlotBar(start=newstart, end=newend, \n",
    "              s1=rpoll['spread'], s2=rpoll['spread_lag'],\n",
    "              s1_label=r_label, s2_label=r_label, \n",
    "              s1_color=r_color, s2_color='pink',\n",
    "              x_label='', y_label=col_to_plot, title=title,\n",
    "              bar_width=bar_width, opacity=opacity)"
   ]
  },
  {
   "cell_type": "code",
   "execution_count": 8,
   "metadata": {
    "collapsed": false
   },
   "outputs": [
    {
     "data": {
      "image/png": "[encoded data removed]",
      "text/plain": [
       "<matplotlib.figure.Figure at 0x7ff77cd90ef0>"
      ]
     },
     "metadata": {},
     "output_type": "display_data"
    }
   ],
   "source": [
    "window=21\n",
    "min_periods=2\n",
    "title=\"{} day moving average\".format(window)\n",
    "rpoll['average']=rpoll['spread'].rolling(window, min_periods).mean()\n",
    "formatPlotBar(start=newstart, end=newend, \n",
    "              s1=rpoll['spread'], s2=rpoll['average'],\n",
    "              s1_label=r_label, s2_label=r_label, \n",
    "              s1_color=r_color, s2_color='pink',\n",
    "              x_label='', y_label=col_to_plot, title=title,\n",
    "              bar_width=bar_width, opacity=.5)"
   ]
  },
  {
   "cell_type": "code",
   "execution_count": null,
   "metadata": {
    "collapsed": true
   },
   "outputs": [],
   "source": []
  }
 ],
 "metadata": {
  "kernelspec": {
   "display_name": "Python 3",
   "language": "python",
   "name": "python3"
  },
  "language_info": {
   "codemirror_mode": {
    "name": "ipython",
    "version": 3
   },
   "file_extension": ".py",
   "mimetype": "text/x-python",
   "name": "python",
   "nbconvert_exporter": "python",
   "pygments_lexer": "ipython3",
   "version": "3.6.0"
  }
 },
 "nbformat": 4,
 "nbformat_minor": 2
}
