{
 "cells": [
  {
   "cell_type": "code",
   "execution_count": 1,
   "metadata": {},
   "outputs": [
    {
     "name": "stdout",
     "output_type": "stream",
     "text": [
      "some value    5\n",
      "dtype: int64\n"
     ]
    }
   ],
   "source": [
    "import numpy as np              #python's array proccesing / linear algebra library\n",
    "import pandas as  pd            #data processing / stats library\n",
    "import matplotlib.pyplot as plt #data visualization\n",
    "import csv\n",
    "\n",
    "#the Series object (a 1-d array - a \"list/dict on steroids\")\n",
    "\n",
    "#simplest case - data is scalar\n",
    "#\n",
    "data = 5                      #array-ish, scalar, or n-dimension array (ndarray)\n",
    "index=['some value']          #array-ish collection, same length as data\n",
    "s = pd.Series(data, index)    #index is optional - if not provided, ints from zero)\n",
    "print(s)"
   ]
  },
  {
   "cell_type": "code",
   "execution_count": 3,
   "metadata": {},
   "outputs": [
    {
     "name": "stdout",
     "output_type": "stream",
     "text": [
      "thing1       aye\n",
      "thing2       bee\n",
      "123          123\n",
      "c         (1+2j)\n",
      "dtype: object\n"
     ]
    }
   ],
   "source": [
    "\n",
    "#data can be array-ish e.g., a list, elements can be anything\n",
    "#index elements need to be hashable and unique\n",
    "#\n",
    "data=[\"aye\",     'bee',    123, complex(1,2)]\n",
    "index=['thing1', 'thing2', 123, 'c']\n",
    "s = pd.Series(data, index)\n",
    "print(s)"
   ]
  },
  {
   "cell_type": "code",
   "execution_count": 6,
   "metadata": {},
   "outputs": [
    {
     "name": "stdout",
     "output_type": "stream",
     "text": [
      "thing1       aye\n",
      "thing2       bee\n",
      "123          123\n",
      "c         (1+2j)\n",
      "dtype: object\n"
     ]
    }
   ],
   "source": [
    "#\n",
    "#data can be array-ish e.g., a list, elements can be anything\n",
    "#index elements need to be hashable and unique\n",
    "#\n",
    "data=[\"aye\",     'bee',    123, complex(1,2)]\n",
    "index=['thing1', 'thing2', 123, 'c']\n",
    "s = pd.Series(data, index)\n",
    "print(s)"
   ]
  },
  {
   "cell_type": "code",
   "execution_count": 9,
   "metadata": {},
   "outputs": [
    {
     "name": "stdout",
     "output_type": "stream",
     "text": [
      "aye\n"
     ]
    }
   ],
   "source": [
    "print(s['thing1'])"
   ]
  },
  {
   "cell_type": "code",
   "execution_count": 10,
   "metadata": {},
   "outputs": [
    {
     "name": "stdout",
     "output_type": "stream",
     "text": [
      "beer    Old Style\n",
      "team         Cubs\n",
      "town      Chicago\n",
      "dtype: object\n"
     ]
    }
   ],
   "source": [
    "#data can also be a dict - keys automatically become the index\n",
    "#\n",
    "data={'team': 'Cubs', 'town': 'Chicago', 'beer':'Old Style'}\n",
    "s = pd.Series(data)\n",
    "print(s)"
   ]
  },
  {
   "cell_type": "code",
   "execution_count": 11,
   "metadata": {},
   "outputs": [
    {
     "name": "stdout",
     "output_type": "stream",
     "text": [
      "beer    Old Style\n",
      "team         Cubs\n",
      "dtype: object\n"
     ]
    }
   ],
   "source": [
    "#it's possible to slice by keys:\n",
    "print(  s['beer':'team']  )"
   ]
  },
  {
   "cell_type": "code",
   "execution_count": 12,
   "metadata": {},
   "outputs": [
    {
     "name": "stdout",
     "output_type": "stream",
     "text": [
      "Chicago\n"
     ]
    }
   ],
   "source": [
    "#values accessible by keys or index values (elements are auto-sorted)\n",
    "print( s[2] )"
   ]
  },
  {
   "cell_type": "code",
   "execution_count": 13,
   "metadata": {},
   "outputs": [
    {
     "name": "stdout",
     "output_type": "stream",
     "text": [
      "beer    Old StyleOld Style\n",
      "team              CubsCubs\n",
      "town        ChicagoChicago\n",
      "dtype: object\n"
     ]
    }
   ],
   "source": [
    "#\n",
    "#valid operators are applied as scalar operations\n",
    "#\n",
    "print( s*2  )"
   ]
  },
  {
   "cell_type": "code",
   "execution_count": 14,
   "metadata": {},
   "outputs": [
    {
     "name": "stdout",
     "output_type": "stream",
     "text": [
      "0    0\n",
      "1    0\n",
      "2    0\n",
      "dtype: float64\n"
     ]
    }
   ],
   "source": [
    "#\n",
    "#a Series can be created from a ndarray:\n",
    "#\n",
    "nda=np.zeros([3,])  #one-d ndarray object w/ 3 elements\n",
    "s=pd.Series(nda)\n",
    "print(s)"
   ]
  },
  {
   "cell_type": "code",
   "execution_count": null,
   "metadata": {
    "collapsed": true
   },
   "outputs": [],
   "source": []
  }
 ],
 "metadata": {
  "kernelspec": {
   "display_name": "Python 3",
   "language": "python",
   "name": "python3"
  },
  "language_info": {
   "codemirror_mode": {
    "name": "ipython",
    "version": 3
   },
   "file_extension": ".py",
   "mimetype": "text/x-python",
   "name": "python",
   "nbconvert_exporter": "python",
   "pygments_lexer": "ipython3",
   "version": "3.6.1"
  }
 },
 "nbformat": 4,
 "nbformat_minor": 1
}
