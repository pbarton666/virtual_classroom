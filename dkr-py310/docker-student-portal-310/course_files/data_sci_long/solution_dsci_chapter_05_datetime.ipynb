{
 "cells": [
  {
   "cell_type": "code",
   "execution_count": 5,
   "metadata": {
    "collapsed": true
   },
   "outputs": [],
   "source": [
    "#solution_dsci_chapter_05_datetime.ipynb\n",
    "import pandas as pd\n",
    "import numpy as np\n",
    "import os\n",
    "import pandas.tseries.holiday as hol\n",
    "%matplotlib inline\n",
    "\n",
    "if '__file__' in dir():\n",
    "    path, _=os.path.split(__file__)  \n",
    "else: path=os.getcwd() "
   ]
  },
  {
   "cell_type": "code",
   "execution_count": 8,
   "metadata": {},
   "outputs": [
    {
     "data": {
      "text/plain": [
       "DatetimeIndex(['2020-04-12', '2021-04-04', '2022-04-17', '2023-04-09',\n",
       "               '2024-03-31', '2025-04-20', '2026-04-05', '2027-03-28',\n",
       "               '2028-04-16', '2029-04-01'],\n",
       "              dtype='datetime64[ns]', freq='<Easter>')"
      ]
     },
     "execution_count": 8,
     "metadata": {},
     "output_type": "execute_result"
    }
   ],
   "source": [
    "years=10\n",
    "first_year=2020\n",
    "first_day=pd.datetime(first_year, 1, 1)\n",
    "\n",
    "#get easter with the tseries.holiday collection\n",
    "easter=pd.date_range(start=first_day,\\\n",
    "                         freq=hol.Easter(), \\\n",
    "                         periods=years)\n",
    "easter"
   ]
  },
  {
   "cell_type": "code",
   "execution_count": 7,
   "metadata": {},
   "outputs": [
    {
     "data": {
      "text/plain": [
       "DatetimeIndex(['2020-10-31', '2021-10-31', '2022-10-31', '2023-10-31',\n",
       "               '2024-10-31', '2025-10-31', '2026-10-31', '2027-10-31',\n",
       "               '2028-10-31', '2029-10-31'],\n",
       "              dtype='datetime64[ns]', freq='<DateOffset: kwds={'years': 1}>')"
      ]
     },
     "execution_count": 7,
     "metadata": {},
     "output_type": "execute_result"
    }
   ],
   "source": [
    "first_halloween=pd.datetime(first_year, 10,31)       \n",
    "halloween=pd.date_range(start=first_halloween,\\\n",
    "                         freq=pd.DateOffset(years=1), \\\n",
    "                         periods=years)\n",
    "halloween"
   ]
  },
  {
   "cell_type": "code",
   "execution_count": 13,
   "metadata": {},
   "outputs": [
    {
     "data": {
      "text/plain": [
       "2020-04-12    2.25\n",
       "2020-04-13    1.50\n",
       "2020-04-14    0.75\n",
       "2021-04-04    2.25\n",
       "2021-04-05    1.50\n",
       "2021-04-06    0.75\n",
       "dtype: float64"
      ]
     },
     "execution_count": 13,
     "metadata": {},
     "output_type": "execute_result"
    }
   ],
   "source": [
    "\n",
    "#some junk food specs\n",
    "candy_per_day=3\n",
    "base_cost=1\n",
    "discount=[.25, .5, .75]\n",
    "\n",
    "#placeholder lists for the dates and expenses\n",
    "days=[]\n",
    "expenses=[]\n",
    "\n",
    "#iterate through and grab the right discounts and dates\n",
    "for day in easter:\n",
    "    for ix, disc in enumerate(discount):  #captures length of discounts list\n",
    "        #days.append(pd.DatetimeIndex([day]) + pd.DateOffset(days=ix) ) #hint   \n",
    "        days.append(day.date() + pd.DateOffset(days=ix) )\n",
    "        expenses.append(candy_per_day * base_cost * (1-disc))\n",
    " \n",
    "#harf all into a new Series   \n",
    "transactions = pd.Series(data=expenses, index=days)\n",
    "transactions[0:6]\n"
   ]
  },
  {
   "cell_type": "code",
   "execution_count": 15,
   "metadata": {},
   "outputs": [
    {
     "name": "stdout",
     "output_type": "stream",
     "text": [
      "total transactions: 45.0\n"
     ]
    }
   ],
   "source": [
    "total_expense=transactions.sum()\n",
    "print(\"total transactions:\", total_expense)"
   ]
  },
  {
   "cell_type": "code",
   "execution_count": null,
   "metadata": {
    "collapsed": true
   },
   "outputs": [],
   "source": []
  }
 ],
 "metadata": {
  "kernelspec": {
   "display_name": "Python 3",
   "language": "python",
   "name": "python3"
  },
  "language_info": {
   "codemirror_mode": {
    "name": "ipython",
    "version": 3
   },
   "file_extension": ".py",
   "mimetype": "text/x-python",
   "name": "python",
   "nbconvert_exporter": "python",
   "pygments_lexer": "ipython3",
   "version": "3.6.1"
  }
 },
 "nbformat": 4,
 "nbformat_minor": 2
}
