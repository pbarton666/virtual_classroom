{
 "cells": [
  {
   "cell_type": "code",
   "execution_count": 19,
   "metadata": {},
   "outputs": [
    {
     "data": {
      "text/plain": [
       "<module 'matplotlib.pyplot' from 'c:\\\\Users\\\\pbarton\\\\AppData\\\\Local\\\\Continuum\\\\Anaconda3\\\\lib\\\\site-packages\\\\matplotlib\\\\pyplot.py'>"
      ]
     },
     "execution_count": 19,
     "metadata": {},
     "output_type": "execute_result"
    },
    {
     "data": {
      "image/png": "[encoded data removed]",
      "text/plain": [
       "<matplotlib.figure.Figure at 0xd3a0438>"
      ]
     },
     "metadata": {},
     "output_type": "display_data"
    }
   ],
   "source": [
    "#the series and it's stats\n",
    "my_ser=pd.Series([3,4,5,2,7,5,3,2,8,5,4,3,2,5,6,7,1,1,1])\n",
    "my_ser.sort_values(inplace=True)\n",
    "mean=my_ser.mean()\n",
    "std=my_ser.std()\n",
    "N = my_ser.count()\n",
    "\n",
    "#the corresponding normal distribution\n",
    "#norm=pd.Series(np.random.normal(mean, std, N))\n",
    "\n",
    "#creation of a histogram returns information about it.  \"normed\"\n",
    "# means that SUM(col_height * col_width) = N\n",
    "count, bins, ignored = plt.hist(my_ser, 20, normed=True)\n",
    "\n",
    "#you can use optional settings for a line plot the first\n",
    "#  argument is the probability density function\n",
    "plt.plot(bins, 1/(std * np.sqrt(2 * np.pi)) *\n",
    "                np.exp( - (bins - mean)**2 / (2 * std**2)) ,\n",
    "          \n",
    "         linewidth=1, \n",
    "         color='r')\n",
    "plt"
   ]
  },
  {
   "cell_type": "code",
   "execution_count": null,
   "metadata": {
    "collapsed": true
   },
   "outputs": [],
   "source": []
  }
 ],
 "metadata": {
  "kernelspec": {
   "display_name": "Python 3",
   "language": "python",
   "name": "python3"
  },
  "language_info": {
   "codemirror_mode": {
    "name": "ipython",
    "version": 3
   },
   "file_extension": ".py",
   "mimetype": "text/x-python",
   "name": "python",
   "nbconvert_exporter": "python",
   "pygments_lexer": "ipython3",
   "version": "3.6.1"
  }
 },
 "nbformat": 4,
 "nbformat_minor": 2
}
