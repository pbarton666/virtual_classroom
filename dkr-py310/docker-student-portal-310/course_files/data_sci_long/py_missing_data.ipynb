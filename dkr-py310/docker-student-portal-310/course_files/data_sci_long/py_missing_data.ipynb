{
 "cells": [
  {
   "cell_type": "code",
   "execution_count": 9,
   "metadata": {
    "collapsed": false
   },
   "outputs": [
    {
     "name": "stdout",
     "output_type": "stream",
     "text": [
      "count: 100  missing: 0\n"
     ]
    },
    {
     "data": {
      "image/png": "[encoded data removed]",
      "text/plain": [
       "<matplotlib.figure.Figure at 0x7fe99c08f978>"
      ]
     },
     "metadata": {},
     "output_type": "display_data"
    }
   ],
   "source": [
    "#py_missing_data.ipynb\n",
    "%matplotlib inline\n",
    "import numpy as np     \n",
    "import pandas as pd\n",
    "import matplotlib.pyplot as plt\n",
    "\n",
    "total_observed=100\n",
    "s = pd.Series(np.random.choice([10, 20, 30, 40, -9], total_observed))\n",
    "h=s.hist()\n",
    "print('count: {}  missing: {}'.format(s.count(),total_observed-s.count()))\n"
   ]
  },
  {
   "cell_type": "code",
   "execution_count": null,
   "metadata": {
    "collapsed": false
   },
   "outputs": [],
   "source": [
    "#using replace()\n",
    "s.replace(-9, np.nan, inplace = True)\n",
    "h=s.hist()\n",
    "print('count: {}  missing: {}'.format(s.count(),total_observed-s.count()))\n",
    "print(s)"
   ]
  },
  {
   "cell_type": "code",
   "execution_count": null,
   "metadata": {
    "collapsed": false
   },
   "outputs": [],
   "source": [
    "s= s.dropna()   #no inplace=True\n",
    "print(s)"
   ]
  },
  {
   "cell_type": "code",
   "execution_count": 12,
   "metadata": {
    "collapsed": false
   },
   "outputs": [
    {
     "data": {
      "text/plain": [
       "0    100.0\n",
       "1      NaN\n",
       "2      NaN\n",
       "3      NaN\n",
       "4    200.0\n",
       "dtype: float64"
      ]
     },
     "execution_count": 12,
     "metadata": {},
     "output_type": "execute_result"
    }
   ],
   "source": [
    "# re-create the Series\n",
    "s = pd.Series.from_array([100, np.nan, np.nan, np.nan, 200])\n",
    "s"
   ]
  },
  {
   "cell_type": "code",
   "execution_count": 13,
   "metadata": {
    "collapsed": false
   },
   "outputs": [
    {
     "name": "stdout",
     "output_type": "stream",
     "text": [
      "0                 100\n",
      "1    FAKE NEWS!  SAD.\n",
      "2    FAKE NEWS!  SAD.\n",
      "3    FAKE NEWS!  SAD.\n",
      "4                 200\n",
      "dtype: object\n"
     ]
    }
   ],
   "source": [
    "#replace NaN with a new constant\n",
    "t=s.copy()\n",
    "t=t.fillna(\"FAKE NEWS!  SAD.\")\n",
    "print(t)"
   ]
  },
  {
   "cell_type": "code",
   "execution_count": 14,
   "metadata": {
    "collapsed": false
   },
   "outputs": [
    {
     "name": "stdout",
     "output_type": "stream",
     "text": [
      "0    100.0\n",
      "1    100.0\n",
      "2    100.0\n",
      "3    100.0\n",
      "4    200.0\n",
      "dtype: float64\n"
     ]
    }
   ],
   "source": [
    "#replace NaN w/ last good value\n",
    "t=s.copy()\n",
    "t=t.fillna(method='ffill')\n",
    "print(t)"
   ]
  },
  {
   "cell_type": "code",
   "execution_count": 15,
   "metadata": {
    "collapsed": false
   },
   "outputs": [
    {
     "name": "stdout",
     "output_type": "stream",
     "text": [
      "0    100.0\n",
      "1      NaN\n",
      "2    200.0\n",
      "3    200.0\n",
      "4    200.0\n",
      "dtype: float64\n"
     ]
    }
   ],
   "source": [
    "#replace NaN w/ next good value\n",
    "t=s.copy()\n",
    "t=t.fillna(method='bfill', limit=2)\n",
    "print(t)"
   ]
  },
  {
   "cell_type": "code",
   "execution_count": 16,
   "metadata": {
    "collapsed": false
   },
   "outputs": [
    {
     "name": "stdout",
     "output_type": "stream",
     "text": [
      "0    100.0\n",
      "1    125.0\n",
      "2    150.0\n",
      "3    175.0\n",
      "4    200.0\n",
      "dtype: float64\n"
     ]
    }
   ],
   "source": [
    "#replace NaN w/ interpolated\n",
    "t=s.copy()\n",
    "t=t.interpolate()\n",
    "print(t)"
   ]
  },
  {
   "cell_type": "code",
   "execution_count": 17,
   "metadata": {
    "collapsed": false
   },
   "outputs": [
    {
     "name": "stdout",
     "output_type": "stream",
     "text": [
      "0    100.0\n",
      "1    120.0\n",
      "2    120.0\n",
      "3    120.0\n",
      "4    200.0\n",
      "5    200.0\n",
      "dtype: float64\n"
     ]
    }
   ],
   "source": [
    "#replace NaN w/ interpolated\n",
    "t=pd.Series.from_array([100,  120, np.nan, np.nan, np.nan, 200])\n",
    "t=t.interpolate(method='nearest', direction='backward')\n",
    "print(t)"
   ]
  },
  {
   "cell_type": "code",
   "execution_count": 18,
   "metadata": {
    "collapsed": false
   },
   "outputs": [
    {
     "name": "stdout",
     "output_type": "stream",
     "text": [
      "0     3.0\n",
      "1    50.0\n",
      "2     NaN\n",
      "3    99.0\n",
      "4     NaN\n",
      "dtype: float64\n"
     ]
    }
   ],
   "source": [
    "#use mask() to create a new data structure\n",
    "rh=pd.Series.from_array([3, 50, -4, 99, 201])\n",
    "masked=rh.mask((rh<0) | (rh >100))\n",
    "print(masked)\n"
   ]
  },
  {
   "cell_type": "code",
   "execution_count": 19,
   "metadata": {
    "collapsed": false,
    "scrolled": true
   },
   "outputs": [
    {
     "name": "stdout",
     "output_type": "stream",
     "text": [
      "0     3\n",
      "1    50\n",
      "3    99\n",
      "dtype: int64\n"
     ]
    }
   ],
   "source": [
    "#grab a slice of 'the good stuff'\n",
    "fixed=rh[ (rh>=0) & (rh <=100)]\n",
    "print(fixed)"
   ]
  },
  {
   "cell_type": "code",
   "execution_count": 20,
   "metadata": {
    "collapsed": false
   },
   "outputs": [
    {
     "data": {
      "text/plain": [
       "<matplotlib.axes._subplots.AxesSubplot at 0x7fe98606beb8>"
      ]
     },
     "execution_count": 20,
     "metadata": {},
     "output_type": "execute_result"
    },
    {
     "data": {
      "image/png": "[encoded data removed]",
      "text/plain": [
       "<matplotlib.figure.Figure at 0x7fe98ccfe438>"
      ]
     },
     "metadata": {},
     "output_type": "display_data"
    }
   ],
   "source": [
    "#screen data statistically\n",
    "data=np.random.gumbel(size=1000)  #used for 'fat tailed' distributions\n",
    "t=pd.Series(data)\n",
    "t.hist(bins=100)"
   ]
  },
  {
   "cell_type": "code",
   "execution_count": 21,
   "metadata": {
    "collapsed": false
   },
   "outputs": [
    {
     "data": {
      "text/plain": [
       "<matplotlib.axes._subplots.AxesSubplot at 0x7fe98ccfed30>"
      ]
     },
     "execution_count": 21,
     "metadata": {},
     "output_type": "execute_result"
    },
    {
     "data": {
      "image/png": "[encoded data removed]",
      "text/plain": [
       "<matplotlib.figure.Figure at 0x7fe985bb6c88>"
      ]
     },
     "metadata": {},
     "output_type": "display_data"
    }
   ],
   "source": [
    "#standardize the data\n",
    "mean=t.mean()\n",
    "stdev=t.std()\n",
    "norm=(t-mean)/stdev\n",
    "norm.hist(bins=100)"
   ]
  },
  {
   "cell_type": "code",
   "execution_count": 22,
   "metadata": {
    "collapsed": false,
    "scrolled": true
   },
   "outputs": [
    {
     "name": "stdout",
     "output_type": "stream",
     "text": [
      "good values (bmask)\n",
      " 3    4\n",
      "4    5\n",
      "dtype: int64\n",
      "\n",
      "good values index\n",
      " Int64Index([3, 4], dtype='int64')\n",
      "\n",
      "new series (fixed version)\n",
      " 3    4\n",
      "4    5\n",
      "dtype: int64\n"
     ]
    }
   ],
   "source": [
    "#make a new array with the good values \n",
    "test=pd.Series([1,2,3,4,5])\n",
    "bmask=test[test>3]\n",
    "print('good values (bmask)\\n', bmask)\n",
    "print()\n",
    "print('good values index\\n', bmask.index)\n",
    "print()\n",
    "fixed=test[bmask.index]\n",
    "print('new series (fixed version)\\n', fixed)"
   ]
  },
  {
   "cell_type": "code",
   "execution_count": 23,
   "metadata": {
    "collapsed": false,
    "scrolled": true
   },
   "outputs": [
    {
     "data": {
      "text/plain": [
       "<matplotlib.axes._subplots.AxesSubplot at 0x7fe9859765f8>"
      ]
     },
     "execution_count": 23,
     "metadata": {},
     "output_type": "execute_result"
    },
    {
     "data": {
      "image/png": "[encoded data removed]",
      "text/plain": [
       "<matplotlib.figure.Figure at 0x7fe9859a6208>"
      ]
     },
     "metadata": {},
     "output_type": "display_data"
    }
   ],
   "source": [
    "#create a mask against the standardized data\n",
    "bmask= norm[norm<2]\n",
    "new_norm=norm[bmask.index]\n",
    "new_norm.hist(bins=100)"
   ]
  },
  {
   "cell_type": "code",
   "execution_count": 24,
   "metadata": {
    "collapsed": false
   },
   "outputs": [
    {
     "data": {
      "text/plain": [
       "<matplotlib.axes._subplots.AxesSubplot at 0x7fe9859a6b70>"
      ]
     },
     "execution_count": 24,
     "metadata": {},
     "output_type": "execute_result"
    },
    {
     "data": {
      "image/png": "[encoded data removed]",
      "text/plain": [
       "<matplotlib.figure.Figure at 0x7fe98cf2ad30>"
      ]
     },
     "metadata": {},
     "output_type": "display_data"
    }
   ],
   "source": [
    "#now apply it against the original\n",
    "fixed = t[bmask.index]\n",
    "fixed.hist(bins=100)"
   ]
  }
 ],
 "metadata": {
  "kernelspec": {
   "display_name": "Python 3",
   "language": "python",
   "name": "python3"
  },
  "language_info": {
   "codemirror_mode": {
    "name": "ipython",
    "version": 3
   },
   "file_extension": ".py",
   "mimetype": "text/x-python",
   "name": "python",
   "nbconvert_exporter": "python",
   "pygments_lexer": "ipython3",
   "version": "3.6.0"
  }
 },
 "nbformat": 4,
 "nbformat_minor": 2
}
