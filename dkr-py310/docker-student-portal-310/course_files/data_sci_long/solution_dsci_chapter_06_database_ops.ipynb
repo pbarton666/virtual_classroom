{
 "cells": [
  {
   "cell_type": "code",
   "execution_count": 1,
   "metadata": {
    "collapsed": true
   },
   "outputs": [],
   "source": [
    "#solution_dsci_chapter_06_database_ops.ipynb\n",
    "import numpy as np              \n",
    "import pandas as  pd            \n",
    "import matplotlib.pyplot as plt \n",
    "%matplotlib inline\n",
    "import os\n",
    "datafile='earthquakes.csv'\n",
    "\n",
    "#useful if you want the directory this script is in\n",
    "if '__file__' in dir():\n",
    "    path, _=os.path.split(__file__)  \n",
    "else: path=os.getcwd() \n",
    "    \n",
    "filename=os.path.join(path, datafile)\n",
    "df=pd.read_csv(filename, parse_dates=[0]) #dialect defaults to Excel"
   ]
  },
  {
   "cell_type": "code",
   "execution_count": 2,
   "metadata": {},
   "outputs": [
    {
     "data": {
      "text/html": [
       "<div>\n",
       "<style>\n",
       "    .dataframe thead tr:only-child th {\n",
       "        text-align: right;\n",
       "    }\n",
       "\n",
       "    .dataframe thead th {\n",
       "        text-align: left;\n",
       "    }\n",
       "\n",
       "    .dataframe tbody tr th {\n",
       "        vertical-align: top;\n",
       "    }\n",
       "</style>\n",
       "<table border=\"1\" class=\"dataframe\">\n",
       "  <thead>\n",
       "    <tr style=\"text-align: right;\">\n",
       "      <th></th>\n",
       "      <th>depth</th>\n",
       "      <th>mag</th>\n",
       "      <th>net</th>\n",
       "      <th>place</th>\n",
       "      <th>status</th>\n",
       "      <th>year</th>\n",
       "      <th>mon</th>\n",
       "      <th>day</th>\n",
       "    </tr>\n",
       "    <tr>\n",
       "      <th>time</th>\n",
       "      <th></th>\n",
       "      <th></th>\n",
       "      <th></th>\n",
       "      <th></th>\n",
       "      <th></th>\n",
       "      <th></th>\n",
       "      <th></th>\n",
       "      <th></th>\n",
       "    </tr>\n",
       "  </thead>\n",
       "  <tbody>\n",
       "    <tr>\n",
       "      <th>2017-09-19 16:57:00</th>\n",
       "      <td>1.52</td>\n",
       "      <td>2.45</td>\n",
       "      <td>ci</td>\n",
       "      <td>California</td>\n",
       "      <td>automatic</td>\n",
       "      <td>2017</td>\n",
       "      <td>9</td>\n",
       "      <td>19</td>\n",
       "    </tr>\n",
       "    <tr>\n",
       "      <th>2017-09-19 16:15:00</th>\n",
       "      <td>2.63</td>\n",
       "      <td>2.92</td>\n",
       "      <td>nc</td>\n",
       "      <td>California</td>\n",
       "      <td>automatic</td>\n",
       "      <td>2017</td>\n",
       "      <td>9</td>\n",
       "      <td>19</td>\n",
       "    </tr>\n",
       "    <tr>\n",
       "      <th>2017-09-19 15:35:00</th>\n",
       "      <td>4.52</td>\n",
       "      <td>3.10</td>\n",
       "      <td>us</td>\n",
       "      <td>Idaho</td>\n",
       "      <td>reviewed</td>\n",
       "      <td>2017</td>\n",
       "      <td>9</td>\n",
       "      <td>19</td>\n",
       "    </tr>\n",
       "  </tbody>\n",
       "</table>\n",
       "</div>"
      ],
      "text/plain": [
       "                     depth   mag net       place     status  year  mon  day\n",
       "time                                                                       \n",
       "2017-09-19 16:57:00   1.52  2.45  ci  California  automatic  2017    9   19\n",
       "2017-09-19 16:15:00   2.63  2.92  nc  California  automatic  2017    9   19\n",
       "2017-09-19 15:35:00   4.52  3.10  us       Idaho   reviewed  2017    9   19"
      ]
     },
     "execution_count": 2,
     "metadata": {},
     "output_type": "execute_result"
    }
   ],
   "source": [
    "#py_pandas_pivot_tables.ipynb\n",
    "\n",
    "#use time for the index\n",
    "df['place']=df['place'].astype(str)\n",
    "df['place']=df['place'].str.split(',').str.get(1)\n",
    "df['place']=df['place'].str.strip()\n",
    "df['place']=df['place'].str.replace(\"CA\", \"California\")\n",
    "\n",
    "#  make year, month, and day columns\n",
    "df['year']=df['time'].dt.year\n",
    "df['mon']=df['time'].dt.month\n",
    "df['day']=df['time'].dt.day\n",
    "\n",
    "#nuke extraneous columns\n",
    "df.drop(df.columns[[1,2,5,6,7,8,9,11,12,14,15,16,17,18,20,21]], \\\n",
    "        axis=1, inplace=True)\n",
    "\n",
    "#round to nearest minute and de-dup\n",
    "df['time']=df['time'].dt.round('min')\n",
    "df=df.drop_duplicates('time')\n",
    "\n",
    "#make time the index\n",
    "df.set_index('time', inplace=True)\n",
    "\n",
    "df.head(3)"
   ]
  },
  {
   "cell_type": "code",
   "execution_count": 3,
   "metadata": {},
   "outputs": [
    {
     "data": {
      "text/html": [
       "<div>\n",
       "<style>\n",
       "    .dataframe thead tr:only-child th {\n",
       "        text-align: right;\n",
       "    }\n",
       "\n",
       "    .dataframe thead th {\n",
       "        text-align: left;\n",
       "    }\n",
       "\n",
       "    .dataframe tbody tr th {\n",
       "        vertical-align: top;\n",
       "    }\n",
       "</style>\n",
       "<table border=\"1\" class=\"dataframe\">\n",
       "  <thead>\n",
       "    <tr style=\"text-align: right;\">\n",
       "      <th></th>\n",
       "      <th>depth</th>\n",
       "      <th>mag</th>\n",
       "      <th>net</th>\n",
       "      <th>place</th>\n",
       "      <th>status</th>\n",
       "      <th>year</th>\n",
       "      <th>mon</th>\n",
       "      <th>day</th>\n",
       "    </tr>\n",
       "    <tr>\n",
       "      <th>time</th>\n",
       "      <th></th>\n",
       "      <th></th>\n",
       "      <th></th>\n",
       "      <th></th>\n",
       "      <th></th>\n",
       "      <th></th>\n",
       "      <th></th>\n",
       "      <th></th>\n",
       "    </tr>\n",
       "  </thead>\n",
       "  <tbody>\n",
       "    <tr>\n",
       "      <th>2017-09-19 09:44:00</th>\n",
       "      <td>6.72</td>\n",
       "      <td>3.1</td>\n",
       "      <td>us</td>\n",
       "      <td>Oklahoma</td>\n",
       "      <td>reviewed</td>\n",
       "      <td>2017</td>\n",
       "      <td>9</td>\n",
       "      <td>19</td>\n",
       "    </tr>\n",
       "    <tr>\n",
       "      <th>2017-09-17 18:53:00</th>\n",
       "      <td>5.00</td>\n",
       "      <td>3.1</td>\n",
       "      <td>us</td>\n",
       "      <td>Oklahoma</td>\n",
       "      <td>reviewed</td>\n",
       "      <td>2017</td>\n",
       "      <td>9</td>\n",
       "      <td>17</td>\n",
       "    </tr>\n",
       "    <tr>\n",
       "      <th>2017-09-16 23:27:00</th>\n",
       "      <td>2.57</td>\n",
       "      <td>3.9</td>\n",
       "      <td>us</td>\n",
       "      <td>Oklahoma</td>\n",
       "      <td>reviewed</td>\n",
       "      <td>2017</td>\n",
       "      <td>9</td>\n",
       "      <td>16</td>\n",
       "    </tr>\n",
       "  </tbody>\n",
       "</table>\n",
       "</div>"
      ],
      "text/plain": [
       "                     depth  mag net     place    status  year  mon  day\n",
       "time                                                                   \n",
       "2017-09-19 09:44:00   6.72  3.1  us  Oklahoma  reviewed  2017    9   19\n",
       "2017-09-17 18:53:00   5.00  3.1  us  Oklahoma  reviewed  2017    9   17\n",
       "2017-09-16 23:27:00   2.57  3.9  us  Oklahoma  reviewed  2017    9   16"
      ]
     },
     "execution_count": 3,
     "metadata": {},
     "output_type": "execute_result"
    }
   ],
   "source": [
    "ok = df.query(\"place=='Oklahoma'\")\n",
    "ok[:3]"
   ]
  },
  {
   "cell_type": "code",
   "execution_count": 4,
   "metadata": {},
   "outputs": [
    {
     "data": {
      "text/html": [
       "<div>\n",
       "<style>\n",
       "    .dataframe thead tr:only-child th {\n",
       "        text-align: right;\n",
       "    }\n",
       "\n",
       "    .dataframe thead th {\n",
       "        text-align: left;\n",
       "    }\n",
       "\n",
       "    .dataframe tbody tr th {\n",
       "        vertical-align: top;\n",
       "    }\n",
       "</style>\n",
       "<table border=\"1\" class=\"dataframe\">\n",
       "  <thead>\n",
       "    <tr style=\"text-align: right;\">\n",
       "      <th></th>\n",
       "      <th>depth</th>\n",
       "      <th>mag</th>\n",
       "      <th>net</th>\n",
       "      <th>place</th>\n",
       "      <th>status</th>\n",
       "      <th>year</th>\n",
       "      <th>mon</th>\n",
       "      <th>day</th>\n",
       "    </tr>\n",
       "    <tr>\n",
       "      <th>time</th>\n",
       "      <th></th>\n",
       "      <th></th>\n",
       "      <th></th>\n",
       "      <th></th>\n",
       "      <th></th>\n",
       "      <th></th>\n",
       "      <th></th>\n",
       "      <th></th>\n",
       "    </tr>\n",
       "  </thead>\n",
       "  <tbody>\n",
       "    <tr>\n",
       "      <th>2017-09-19 16:57:00</th>\n",
       "      <td>1.52</td>\n",
       "      <td>2.45</td>\n",
       "      <td>ci</td>\n",
       "      <td>California</td>\n",
       "      <td>automatic</td>\n",
       "      <td>2017</td>\n",
       "      <td>9</td>\n",
       "      <td>19</td>\n",
       "    </tr>\n",
       "    <tr>\n",
       "      <th>2017-09-19 16:15:00</th>\n",
       "      <td>2.63</td>\n",
       "      <td>2.92</td>\n",
       "      <td>nc</td>\n",
       "      <td>California</td>\n",
       "      <td>automatic</td>\n",
       "      <td>2017</td>\n",
       "      <td>9</td>\n",
       "      <td>19</td>\n",
       "    </tr>\n",
       "    <tr>\n",
       "      <th>2017-09-19 08:14:00</th>\n",
       "      <td>2.19</td>\n",
       "      <td>2.57</td>\n",
       "      <td>ci</td>\n",
       "      <td>California</td>\n",
       "      <td>automatic</td>\n",
       "      <td>2017</td>\n",
       "      <td>9</td>\n",
       "      <td>19</td>\n",
       "    </tr>\n",
       "  </tbody>\n",
       "</table>\n",
       "</div>"
      ],
      "text/plain": [
       "                     depth   mag net       place     status  year  mon  day\n",
       "time                                                                       \n",
       "2017-09-19 16:57:00   1.52  2.45  ci  California  automatic  2017    9   19\n",
       "2017-09-19 16:15:00   2.63  2.92  nc  California  automatic  2017    9   19\n",
       "2017-09-19 08:14:00   2.19  2.57  ci  California  automatic  2017    9   19"
      ]
     },
     "execution_count": 4,
     "metadata": {},
     "output_type": "execute_result"
    }
   ],
   "source": [
    "cal = df.query(\"place=='California' and depth>0\")\n",
    "cal[:3]"
   ]
  },
  {
   "cell_type": "code",
   "execution_count": 5,
   "metadata": {},
   "outputs": [
    {
     "name": "stdout",
     "output_type": "stream",
     "text": [
      "Cal\n",
      "            depth        mag    year        mon        day\n",
      "count  71.000000  71.000000    71.0  71.000000  71.000000\n",
      "mean    7.311408   2.780282  2017.0   8.605634  16.535211\n",
      "std     7.050442   0.332510     0.0   0.492193   8.379961\n",
      "min     0.690000   2.450000  2017.0   8.000000   1.000000\n",
      "25%     2.320000   2.545000  2017.0   8.000000  11.000000\n",
      "50%     4.240000   2.640000  2017.0   9.000000  16.000000\n",
      "75%    10.085000   2.920000  2017.0   9.000000  22.500000\n",
      "max    37.620000   4.070000  2017.0   9.000000  31.000000\n"
     ]
    }
   ],
   "source": [
    "print(\"Cal\\n\", cal.describe())"
   ]
  },
  {
   "cell_type": "code",
   "execution_count": 6,
   "metadata": {},
   "outputs": [
    {
     "name": "stdout",
     "output_type": "stream",
     "text": [
      "OK\n",
      "            depth        mag    year        mon        day\n",
      "count  53.000000  53.000000    53.0  53.000000  53.000000\n",
      "mean    5.305453   2.909434  2017.0   8.509434  17.754717\n",
      "std     1.978430   0.392362     0.0   0.504695   8.855476\n",
      "min     1.314000   2.500000  2017.0   8.000000   4.000000\n",
      "25%     4.710000   2.700000  2017.0   8.000000   9.000000\n",
      "50%     5.000000   2.800000  2017.0   9.000000  19.000000\n",
      "75%     5.878000   3.000000  2017.0   9.000000  26.000000\n",
      "max    14.630000   4.300000  2017.0   9.000000  30.000000\n"
     ]
    }
   ],
   "source": [
    "print(\"OK\\n\", ok.describe())"
   ]
  },
  {
   "cell_type": "code",
   "execution_count": 7,
   "metadata": {},
   "outputs": [
    {
     "data": {
      "image/png": "[encoded data removed]",
      "text/plain": [
       "<matplotlib.figure.Figure at 0xa4009e8>"
      ]
     },
     "metadata": {},
     "output_type": "display_data"
    }
   ],
   "source": [
    "#create a plot object\n",
    "fig, ax=plt.subplots(nrows=3, ncols=2, figsize=(8,8))\n",
    "sub00, sub01 = ax[0]\n",
    "sub10, sub11 = ax[1]\n",
    "sub20, sub21 = ax[2]\n",
    "\n",
    "#depth\n",
    "sub00.hist(ok[\"depth\"] )\n",
    "sub00.set_title('OK depth')\n",
    "sub01.hist(cal[\"depth\"] )\n",
    "sub01.set_title('Cal depth')\n",
    "\n",
    "yticks=[t for t in range(0,40,5)]\n",
    "xticks=[t for t in range(0,40,5)]\n",
    "sub00.xaxis.set_ticks(xticks)\n",
    "sub00.yaxis.set_ticks(yticks)\n",
    "sub01.xaxis.set_ticks(xticks)\n",
    "sub01.yaxis.set_ticks(yticks)\n",
    "\n",
    "#mag\n",
    "sub10.hist(ok[\"mag\"] )\n",
    "sub10.set_title('OK mag')\n",
    "sub11.hist(cal[\"mag\"] )\n",
    "sub11.set_title('Cal mag')\n",
    "\n",
    "yticks=[t for t in range(0,40,5)]\n",
    "xticks=[round(t/100,1) for t in range(0,450,50)]\n",
    "sub10.xaxis.set_ticks(xticks)\n",
    "sub10.yaxis.set_ticks(yticks)\n",
    "sub11.xaxis.set_ticks(xticks)\n",
    "sub11.yaxis.set_ticks(yticks)\n",
    "\n",
    "#mag vs. depth scatter (use sample() to equalize observations)\n",
    "sample_size=50\n",
    "\n",
    "sub20.scatter(x=ok[\"mag\"].sample(sample_size), \n",
    "              y=ok[\"depth\"].sample(sample_size) )\n",
    "sub20.set_title('OK mag (x) versus depth (y)')\n",
    "sub21.scatter(x=cal[\"mag\"].sample(sample_size), \n",
    "              y=cal[\"depth\"].sample(sample_size) )\n",
    "sub21.set_title('Cal mag (x) versus depth (y)')\n",
    "\n",
    "yticks=[t for t in range(0,40,5)]\n",
    "xticks=[round(t/100,1) for t in range(0,450,50)]\n",
    "sub20.xaxis.set_ticks(xticks)\n",
    "sub20.yaxis.set_ticks(yticks)\n",
    "sub21.xaxis.set_ticks(xticks)\n",
    "sub21.yaxis.set_ticks(yticks)\n",
    "\n",
    "fig.tight_layout()\n"
   ]
  },
  {
   "cell_type": "code",
   "execution_count": 15,
   "metadata": {},
   "outputs": [
    {
     "data": {
      "text/plain": [
       "<module 'matplotlib.pyplot' from 'c:\\\\Users\\\\pbarton\\\\AppData\\\\Local\\\\Continuum\\\\Anaconda3\\\\lib\\\\site-packages\\\\matplotlib\\\\pyplot.py'>"
      ]
     },
     "execution_count": 15,
     "metadata": {},
     "output_type": "execute_result"
    },
    {
     "data": {
      "image/png": "[encoded data removed]",
      "text/plain": [
       "<matplotlib.figure.Figure at 0xad2a550>"
      ]
     },
     "metadata": {},
     "output_type": "display_data"
    }
   ],
   "source": [
    "#create \"stretch\" minute-by-minute DataFrames\n",
    "\n",
    "ok=df.query(\"place=='Oklahoma'\")\n",
    "cal = df.query(\"place=='California' and depth>0\")\n",
    "\n",
    "#figure out the first and last dates\n",
    "start=min(ok.index.min(), cal.index.min())\n",
    "end=max(ok.index.max(), cal.index.max())\n",
    "\n",
    "#... gin up a new date_range for the index\n",
    "newix=pd.date_range(start, end, freq='min')\n",
    "ok=ok.reindex(newix)\n",
    "cal=cal.reindex(newix)\n",
    "\n",
    "\n",
    "import matplotlib.dates as dates\n",
    "window=10000\n",
    "window=len(ok)\n",
    "start=0\n",
    "field='depth'\n",
    "\n",
    "ok_plot=ok[field][start: start+window]\n",
    "cal_plot=cal[field][start: start+window]\n",
    "\n",
    "x_as_datetime=ok.index[start: start+window].to_pydatetime()\n",
    "x_as_floats=dates.date2num(x_as_datetime)\n",
    "x_plot=x_as_floats\n",
    "\n",
    "#a two-element bar chart\n",
    "#plt.bar(x_plot, ok_plot, color='b', width=.01)\n",
    "#plt.bar(x_plot, cal_plot, color='r', width=.01)\n",
    "\n",
    "#a two-element line plot\n",
    "plt.figure(figsize=(12, 5))\n",
    "\n",
    "plt.plot(x_plot, ok_plot ,'o-')\n",
    "plt.plot(x_plot, cal_plot, 'x-')\n",
    "fig.set_size_inches(8, 5)\n",
    "plt\n",
    "\n",
    "import matplotlib.dates as dates\n",
    "x_as_datetime=ser.index\n",
    "x_as_floats=dates.date2num(x_as_datetime)\n",
    "x_plot=x_as_floats\n",
    "\n",
    "#plt.plot(ok['depth'])\n",
    "#plt.bar(y_locations, ok['depth'][start:start+window])\n"
   ]
  },
  {
   "cell_type": "code",
   "execution_count": null,
   "metadata": {
    "collapsed": true
   },
   "outputs": [],
   "source": []
  },
  {
   "cell_type": "code",
   "execution_count": null,
   "metadata": {
    "collapsed": true
   },
   "outputs": [],
   "source": []
  }
 ],
 "metadata": {
  "kernelspec": {
   "display_name": "Python 3",
   "language": "python",
   "name": "python3"
  },
  "language_info": {
   "codemirror_mode": {
    "name": "ipython",
    "version": 3
   },
   "file_extension": ".py",
   "mimetype": "text/x-python",
   "name": "python",
   "nbconvert_exporter": "python",
   "pygments_lexer": "ipython3",
   "version": "3.6.1"
  }
 },
 "nbformat": 4,
 "nbformat_minor": 2
}
