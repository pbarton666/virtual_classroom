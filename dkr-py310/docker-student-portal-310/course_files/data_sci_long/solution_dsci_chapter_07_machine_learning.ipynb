{
 "cells": [
  {
   "cell_type": "code",
   "execution_count": 273,
   "metadata": {},
   "outputs": [
    {
     "data": {
      "text/html": [
       "<div>\n",
       "<style>\n",
       "    .dataframe thead tr:only-child th {\n",
       "        text-align: right;\n",
       "    }\n",
       "\n",
       "    .dataframe thead th {\n",
       "        text-align: left;\n",
       "    }\n",
       "\n",
       "    .dataframe tbody tr th {\n",
       "        vertical-align: top;\n",
       "    }\n",
       "</style>\n",
       "<table border=\"1\" class=\"dataframe\">\n",
       "  <thead>\n",
       "    <tr style=\"text-align: right;\">\n",
       "      <th></th>\n",
       "      <th>depth</th>\n",
       "      <th>mag</th>\n",
       "      <th>place</th>\n",
       "    </tr>\n",
       "  </thead>\n",
       "  <tbody>\n",
       "    <tr>\n",
       "      <th>0</th>\n",
       "      <td>6.125</td>\n",
       "      <td>2.5</td>\n",
       "      <td>Oklahoma</td>\n",
       "    </tr>\n",
       "    <tr>\n",
       "      <th>1</th>\n",
       "      <td>6.720</td>\n",
       "      <td>3.1</td>\n",
       "      <td>Oklahoma</td>\n",
       "    </tr>\n",
       "  </tbody>\n",
       "</table>\n",
       "</div>"
      ],
      "text/plain": [
       "   depth  mag     place\n",
       "0  6.125  2.5  Oklahoma\n",
       "1  6.720  3.1  Oklahoma"
      ]
     },
     "execution_count": 273,
     "metadata": {},
     "output_type": "execute_result"
    }
   ],
   "source": [
    "#solution_dsci_chapter_07_machine_learning.ipynb\n",
    "\n",
    "#the normal imports, etc.\n",
    "import numpy as np              \n",
    "import pandas as  pd            \n",
    "import matplotlib.pyplot as plt \n",
    "%matplotlib inline\n",
    "import os\n",
    "import seaborn as sns\n",
    "import scipy\n",
    "import math\n",
    "datafile='earthquakes.csv'\n",
    "\n",
    "#useful if you want the directory this script is in\n",
    "if '__file__' in dir():\n",
    "    path, _=os.path.split(__file__)  \n",
    "else: path=os.getcwd() \n",
    "    \n",
    "filename=os.path.join(path, datafile)\n",
    "\n",
    "\n",
    "#pick off just the desired columns\n",
    "df=pd.read_csv(filename, usecols=['depth', 'mag',  'place'])\n",
    "\n",
    "#parse out the 'place' column \n",
    "df['place']=df['place'].astype(str)\n",
    "df['place']=df['place'].str.split(',').str.get(1)\n",
    "df['place']=df['place'].str.strip()\n",
    "df['place']=df['place'].str.replace(\"CA\", \"California\")\n",
    "\n",
    "df.head(3)\n",
    "\n",
    "ok = df.query(\"place=='Oklahoma'\")\n",
    "cal = df.query(\"place=='California' and depth>0\")\n",
    "\n",
    "quakes=pd.concat([ok, cal])                   #ok on top, then cal\n",
    "quakes.reset_index(inplace=True, drop=True)   #make new (unique) index\n",
    "quakes.head(2)\n"
   ]
  },
  {
   "cell_type": "code",
   "execution_count": 274,
   "metadata": {},
   "outputs": [
    {
     "data": {
      "text/html": [
       "<div>\n",
       "<style>\n",
       "    .dataframe thead tr:only-child th {\n",
       "        text-align: right;\n",
       "    }\n",
       "\n",
       "    .dataframe thead th {\n",
       "        text-align: left;\n",
       "    }\n",
       "\n",
       "    .dataframe tbody tr th {\n",
       "        vertical-align: top;\n",
       "    }\n",
       "</style>\n",
       "<table border=\"1\" class=\"dataframe\">\n",
       "  <thead>\n",
       "    <tr style=\"text-align: right;\">\n",
       "      <th></th>\n",
       "      <th>depth</th>\n",
       "      <th>mag</th>\n",
       "      <th>place</th>\n",
       "    </tr>\n",
       "  </thead>\n",
       "  <tbody>\n",
       "    <tr>\n",
       "      <th>125</th>\n",
       "      <td>3.65</td>\n",
       "      <td>2.48</td>\n",
       "      <td>California</td>\n",
       "    </tr>\n",
       "    <tr>\n",
       "      <th>126</th>\n",
       "      <td>13.14</td>\n",
       "      <td>2.77</td>\n",
       "      <td>California</td>\n",
       "    </tr>\n",
       "  </tbody>\n",
       "</table>\n",
       "</div>"
      ],
      "text/plain": [
       "     depth   mag       place\n",
       "125   3.65  2.48  California\n",
       "126  13.14  2.77  California"
      ]
     },
     "execution_count": 274,
     "metadata": {},
     "output_type": "execute_result"
    }
   ],
   "source": [
    "quakes.tail(2)"
   ]
  },
  {
   "cell_type": "code",
   "execution_count": 275,
   "metadata": {},
   "outputs": [
    {
     "data": {
      "text/html": [
       "<div>\n",
       "<style>\n",
       "    .dataframe thead tr:only-child th {\n",
       "        text-align: right;\n",
       "    }\n",
       "\n",
       "    .dataframe thead th {\n",
       "        text-align: left;\n",
       "    }\n",
       "\n",
       "    .dataframe tbody tr th {\n",
       "        vertical-align: top;\n",
       "    }\n",
       "</style>\n",
       "<table border=\"1\" class=\"dataframe\">\n",
       "  <thead>\n",
       "    <tr style=\"text-align: right;\">\n",
       "      <th></th>\n",
       "      <th>depth</th>\n",
       "      <th>mag</th>\n",
       "    </tr>\n",
       "  </thead>\n",
       "  <tbody>\n",
       "    <tr>\n",
       "      <th>count</th>\n",
       "      <td>127.00000</td>\n",
       "      <td>127.000000</td>\n",
       "    </tr>\n",
       "    <tr>\n",
       "      <th>mean</th>\n",
       "      <td>6.41948</td>\n",
       "      <td>2.835354</td>\n",
       "    </tr>\n",
       "    <tr>\n",
       "      <th>std</th>\n",
       "      <td>5.50168</td>\n",
       "      <td>0.362972</td>\n",
       "    </tr>\n",
       "    <tr>\n",
       "      <th>min</th>\n",
       "      <td>0.69000</td>\n",
       "      <td>2.450000</td>\n",
       "    </tr>\n",
       "    <tr>\n",
       "      <th>25%</th>\n",
       "      <td>3.12000</td>\n",
       "      <td>2.570000</td>\n",
       "    </tr>\n",
       "    <tr>\n",
       "      <th>50%</th>\n",
       "      <td>5.00000</td>\n",
       "      <td>2.730000</td>\n",
       "    </tr>\n",
       "    <tr>\n",
       "      <th>75%</th>\n",
       "      <td>6.89850</td>\n",
       "      <td>2.950000</td>\n",
       "    </tr>\n",
       "    <tr>\n",
       "      <th>max</th>\n",
       "      <td>37.62000</td>\n",
       "      <td>4.300000</td>\n",
       "    </tr>\n",
       "  </tbody>\n",
       "</table>\n",
       "</div>"
      ],
      "text/plain": [
       "           depth         mag\n",
       "count  127.00000  127.000000\n",
       "mean     6.41948    2.835354\n",
       "std      5.50168    0.362972\n",
       "min      0.69000    2.450000\n",
       "25%      3.12000    2.570000\n",
       "50%      5.00000    2.730000\n",
       "75%      6.89850    2.950000\n",
       "max     37.62000    4.300000"
      ]
     },
     "execution_count": 275,
     "metadata": {},
     "output_type": "execute_result"
    }
   ],
   "source": [
    "quakes.describe()"
   ]
  },
  {
   "cell_type": "code",
   "execution_count": 276,
   "metadata": {},
   "outputs": [
    {
     "name": "stdout",
     "output_type": "stream",
     "text": [
      "Index(['depth', 'mag', 'place'], dtype='object')\n"
     ]
    }
   ],
   "source": [
    "#dependent and independent variables\n",
    "print(quakes.columns)\n",
    "iv_names=['depth', 'mag']\n",
    "dv_name='place'"
   ]
  },
  {
   "cell_type": "code",
   "execution_count": 277,
   "metadata": {},
   "outputs": [
    {
     "data": {
      "text/html": [
       "<div>\n",
       "<style>\n",
       "    .dataframe thead tr:only-child th {\n",
       "        text-align: right;\n",
       "    }\n",
       "\n",
       "    .dataframe thead th {\n",
       "        text-align: left;\n",
       "    }\n",
       "\n",
       "    .dataframe tbody tr th {\n",
       "        vertical-align: top;\n",
       "    }\n",
       "</style>\n",
       "<table border=\"1\" class=\"dataframe\">\n",
       "  <thead>\n",
       "    <tr style=\"text-align: right;\">\n",
       "      <th></th>\n",
       "      <th>counts</th>\n",
       "      <th>freqs</th>\n",
       "    </tr>\n",
       "    <tr>\n",
       "      <th>categories</th>\n",
       "      <th></th>\n",
       "      <th></th>\n",
       "    </tr>\n",
       "  </thead>\n",
       "  <tbody>\n",
       "    <tr>\n",
       "      <th>California</th>\n",
       "      <td>72</td>\n",
       "      <td>0.566929</td>\n",
       "    </tr>\n",
       "    <tr>\n",
       "      <th>Oklahoma</th>\n",
       "      <td>55</td>\n",
       "      <td>0.433071</td>\n",
       "    </tr>\n",
       "  </tbody>\n",
       "</table>\n",
       "</div>"
      ],
      "text/plain": [
       "            counts     freqs\n",
       "categories                  \n",
       "California      72  0.566929\n",
       "Oklahoma        55  0.433071"
      ]
     },
     "execution_count": 277,
     "metadata": {},
     "output_type": "execute_result"
    }
   ],
   "source": [
    "#create categorical data descriptions\n",
    "auto_cats=pd.Categorical(quakes['place'])\n",
    "quakes['place_ix']=auto_cats.codes\n",
    "quakes.head(2)\n",
    "auto_cats.describe()"
   ]
  },
  {
   "cell_type": "code",
   "execution_count": 278,
   "metadata": {},
   "outputs": [
    {
     "data": {
      "text/plain": [
       "<seaborn.axisgrid.PairGrid at 0x174de400>"
      ]
     },
     "execution_count": 278,
     "metadata": {},
     "output_type": "execute_result"
    },
    {
     "data": {
      "image/png": "[encoded data removed]",
      "text/plain": [
       "<matplotlib.figure.Figure at 0x174dedd8>"
      ]
     },
     "metadata": {},
     "output_type": "display_data"
    }
   ],
   "source": [
    "#have a look\n",
    "sns.set()\n",
    "sns.pairplot(quakes[['depth', 'mag', 'place']],\n",
    "                 hue=\"place\", \n",
    "                 diag_kind=\"kde\")"
   ]
  },
  {
   "cell_type": "code",
   "execution_count": 279,
   "metadata": {},
   "outputs": [
    {
     "name": "stdout",
     "output_type": "stream",
     "text": [
      "\tfeature: depth      FAILED. SAD!         p=0.0       \n",
      "\tfeature: mag        FAILED. SAD!         p=0.0       \n"
     ]
    }
   ],
   "source": [
    "#Run the D'Agostino K-squared (skew+kurotsis) test\n",
    "\n",
    "p_target=.05   #if the p-value is less that this, we fail the test\n",
    "\n",
    "for iv in iv_names:\n",
    "    data=quakes[iv]\n",
    "    statistic, p =scipy.stats.normaltest(data)\n",
    "    if p<p_target:\n",
    "        result='FAILED. SAD!'\n",
    "    else: result='passed'\n",
    "    print(\"\\tfeature: {:<10} {:<20} p={:<10}\".\\\n",
    "          format(iv, result, round(p,4)))"
   ]
  },
  {
   "cell_type": "code",
   "execution_count": 280,
   "metadata": {},
   "outputs": [
    {
     "data": {
      "image/png": "[encoded data removed]",
      "text/plain": [
       "<matplotlib.figure.Figure at 0x177b1c88>"
      ]
     },
     "metadata": {},
     "output_type": "display_data"
    }
   ],
   "source": [
    "#create a plot object\n",
    "plt.figure()\n",
    "\n",
    "#set up the rows/columns for our plot object\n",
    "cols=3\n",
    "rows=math.ceil(len(iv_names)/cols) \n",
    "\n",
    "row=1; col=1; subplot=1\n",
    "for iv in iv_names:    \n",
    "    data=df[iv]                            #grab the data\n",
    "    plt.subplot(rows, cols, subplot)       #create the subplot object\n",
    "    scipy.stats.probplot(data, plot=plt)   #stuff it w/ data\n",
    "    plt.title(iv)                          #give it a nice title\n",
    "    #reset indices \n",
    "    col+=1\n",
    "    if col>cols: \n",
    "        col=1\n",
    "        row+=1\n",
    "    subplot+=1\n",
    "\n",
    "#spruce it up aesthetically \n",
    "fig=plt.gcf()   #get current figure - figure object is main container\n",
    "fig.canvas.set_window_title(\"Q-Q Charts\")\n",
    "\n",
    "plt.tight_layout() #alternative:  plt.subplots_adjust() "
   ]
  },
  {
   "cell_type": "code",
   "execution_count": 281,
   "metadata": {},
   "outputs": [],
   "source": [
    "#Hmmm ... a little sketchy, but let's forge on."
   ]
  },
  {
   "cell_type": "code",
   "execution_count": 282,
   "metadata": {
    "collapsed": true
   },
   "outputs": [],
   "source": [
    "#spin up an instance of the LDA model\n",
    "from sklearn.discriminant_analysis import LinearDiscriminantAnalysis as LDA\n",
    "\n",
    "lda = LDA(n_components=2)\n"
   ]
  },
  {
   "cell_type": "code",
   "execution_count": 283,
   "metadata": {},
   "outputs": [],
   "source": [
    "#split the data file\n",
    "from sklearn.model_selection import train_test_split\n",
    "\n",
    "#could do this manually, but it's built-in.  \".5\" makes a 50/50 split\n",
    "train, test=train_test_split(quakes, test_size=.5)\n",
    "\n",
    "train_data = train[['depth', 'mag']].values\n",
    "train_class_ix=train['place_ix']\n",
    "\n",
    "test_data = test[['depth', 'mag']].values\n",
    "test_class_ix=test['place_ix']\n",
    "#train_data"
   ]
  },
  {
   "cell_type": "code",
   "execution_count": 284,
   "metadata": {},
   "outputs": [
    {
     "name": "stdout",
     "output_type": "stream",
     "text": [
      "Training success rate: 0.59\n"
     ]
    }
   ],
   "source": [
    "\n",
    "#use fit() to produce component vectors\n",
    "train_result=lda.fit(train_data, train_class_ix)\n",
    "\n",
    "#raw_data = quakes[iv_names].values  #a ndarray.\n",
    "tlda_result=train_result.transform(train_data)\n",
    " \n",
    "#train_success_rate=train_result.score(train_data, train_class_ix)\n",
    "print(\"Training success rate:\", round(train_success_rate, 2))"
   ]
  },
  {
   "cell_type": "code",
   "execution_count": 285,
   "metadata": {},
   "outputs": [
    {
     "name": "stdout",
     "output_type": "stream",
     "text": [
      "Test success rate ('naive' data): 0.59\n"
     ]
    }
   ],
   "source": [
    "#Analyze the withheld test data against training model\n",
    "test_success_rate=train_result.score(test_data, test_class_ix)\n",
    "print(\"Test success rate ('naive' data):\", round(test_success_rate, 2))"
   ]
  }
 ],
 "metadata": {
  "kernelspec": {
   "display_name": "Python 3",
   "language": "python",
   "name": "python3"
  },
  "language_info": {
   "codemirror_mode": {
    "name": "ipython",
    "version": 3
   },
   "file_extension": ".py",
   "mimetype": "text/x-python",
   "name": "python",
   "nbconvert_exporter": "python",
   "pygments_lexer": "ipython3",
   "version": "3.6.1"
  }
 },
 "nbformat": 4,
 "nbformat_minor": 2
}
